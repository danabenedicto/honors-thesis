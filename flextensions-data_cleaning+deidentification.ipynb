{
 "cells": [
  {
   "cell_type": "code",
   "execution_count": 39,
   "id": "c231f57a-564c-4977-b4ee-fe287d3a1ccc",
   "metadata": {},
   "outputs": [
    {
     "name": "stdout",
     "output_type": "stream",
     "text": [
      "/Users/dclbenedicto\n"
     ]
    },
    {
     "name": "stderr",
     "output_type": "stream",
     "text": [
      "/opt/homebrew/Cellar/jupyterlab/4.1.5/libexec/lib/python3.12/site-packages/IPython/core/magics/osm.py:393: UserWarning: This is now an optional IPython functionality, using bookmarks requires you to install the `pickleshare` library.\n",
      "  bkms = self.shell.db.get('bookmarks', {})\n",
      "/opt/homebrew/Cellar/jupyterlab/4.1.5/libexec/lib/python3.12/site-packages/IPython/core/magics/osm.py:428: UserWarning: This is now an optional IPython functionality, setting dhist requires you to install the `pickleshare` library.\n",
      "  self.shell.db['dhist'] = compress_dhist(dhist)[-100:]\n"
     ]
    }
   ],
   "source": [
    "cd"
   ]
  },
  {
   "cell_type": "markdown",
   "id": "2221c150-0bdb-48e2-bfc8-95012e19bf37",
   "metadata": {},
   "source": [
    "# Loading data"
   ]
  },
  {
   "cell_type": "code",
   "execution_count": 40,
   "id": "a864f08f-baee-42e6-b033-ef0452e5b8e9",
   "metadata": {},
   "outputs": [
    {
     "name": "stdout",
     "output_type": "stream",
     "text": [
      "The autoreload extension is already loaded. To reload it, use:\n",
      "  %reload_ext autoreload\n"
     ]
    }
   ],
   "source": [
    "%load_ext autoreload\n",
    "%autoreload 2"
   ]
  },
  {
   "cell_type": "code",
   "execution_count": 41,
   "id": "c294e9e4-0254-4440-869e-f4586dd526b0",
   "metadata": {},
   "outputs": [],
   "source": [
    "import re\n",
    "import numpy as np\n",
    "import pandas as pd\n",
    "import hashlib\n",
    "import seaborn as sns\n",
    "import matplotlib.pyplot as plt\n",
    "import honors.helper as h"
   ]
  },
  {
   "cell_type": "code",
   "execution_count": 42,
   "id": "6711baf0-651f-4e0f-898e-3e10e7048ddd",
   "metadata": {},
   "outputs": [],
   "source": [
    "#load all data\n",
    "responses_101 = pd.read_csv('honors/Copy of Data 101 Fa23 Extensions Backend - Form Responses.csv')\n",
    "roster_101 = pd.read_csv('honors/Copy of Data 101 Fa23 Extensions Backend - Roster.csv')\n",
    "evaluation_101 = pd.read_csv('honors/Internal Final Survey – Data 101, Fall 2023 (Responses) - Form Responses 1.csv')\n",
    "\n",
    "responses_8 = pd.read_csv('honors/[FA23] Data 8 Extensions Data  - Extension Form Responses.csv')\n",
    "roster_8 = pd.read_csv('honors/[FA23] Data 8 Extensions Data  - Extension Roster.csv')\n",
    "evaluation_8 = pd.read_csv('honors/[FA23] Data 8 Extensions Data  - End of Semester Evaluation.csv')\n",
    "\n",
    "responses_100 = pd.read_csv('honors/responses_100.csv')\n",
    "roster_100 = pd.read_csv('honors/roster_100.csv')\n",
    "evaluation_100 = pd.read_csv('honors/evaluation_100.csv')"
   ]
  },
  {
   "cell_type": "code",
   "execution_count": 43,
   "id": "0f9b188b-33bf-496e-9264-3ac3a2536aec",
   "metadata": {},
   "outputs": [],
   "source": [
    "list_of_tables = [responses_101, responses_8, responses_100,\n",
    "                  roster_101, roster_8, roster_100,\n",
    "                  evaluation_101, evaluation_8, evaluation_100]\n",
    "                  \n",
    "# responses_8, roster_8, evaluation_8, responses_100, roster_100, evaluation_100]"
   ]
  },
  {
   "cell_type": "markdown",
   "id": "b28a8c99-be78-48dd-9e73-8041cdaac29c",
   "metadata": {},
   "source": [
    "# Data Cleaning"
   ]
  },
  {
   "cell_type": "code",
   "execution_count": 44,
   "id": "acefa3f0-5d8a-41d1-b865-6fb3ff56503e",
   "metadata": {},
   "outputs": [],
   "source": [
    "#remove NaNs\n",
    "responses_101.dropna(subset = ['Email Address'], inplace=True)\n",
    "roster_101.dropna(subset = ['email'], inplace=True)"
   ]
  },
  {
   "cell_type": "markdown",
   "id": "1a6fb202-0c43-430b-8bf5-d3179a7dccef",
   "metadata": {},
   "source": [
    "### Data Deidentification"
   ]
  },
  {
   "cell_type": "code",
   "execution_count": 45,
   "id": "e7d16b79-4962-4178-9e48-ab880406859a",
   "metadata": {},
   "outputs": [],
   "source": [
    "#apply to all rows for all df w/ email\n",
    "responses_101['rid'] = responses_101['Email Address'].apply(h.hash_email)\n",
    "roster_101['rid'] = roster_101['email'].apply(h.hash_email)"
   ]
  },
  {
   "cell_type": "markdown",
   "id": "280dee1b-d3ed-4489-b431-f75246e25a19",
   "metadata": {},
   "source": [
    "### Fixing columns + column names"
   ]
  },
  {
   "cell_type": "code",
   "execution_count": 46,
   "id": "90f2a9c6-bfe3-4f4c-b0a8-15c30196797c",
   "metadata": {},
   "outputs": [
    {
     "data": {
      "text/plain": [
       "Index(['Unnamed: 0', 'RID', 'is_dsp', 'hw1', 'hw2a', 'hw2b', 'hw3', 'hw4',\n",
       "       'hw5', 'hw6', 'hw7', 'hw8', 'lab1', 'lab2a', 'lab2b', 'lab3', 'lab4',\n",
       "       'lab5', 'lab6', 'lab7', 'lab8', 'lab9', 'lab10', 'lab11', 'lab12',\n",
       "       'lab13', 'proja1', 'proja2', 'projb1', 'projb2'],\n",
       "      dtype='object')"
      ]
     },
     "execution_count": 46,
     "metadata": {},
     "output_type": "execute_result"
    }
   ],
   "source": [
    "roster_100.columns"
   ]
  },
  {
   "cell_type": "code",
   "execution_count": 47,
   "id": "e5d59ddd-4526-4e95-881d-fcc53457e962",
   "metadata": {},
   "outputs": [
    {
     "data": {
      "text/plain": [
       "Index(['Timestamp', 'Email Address', 'Name', 'Student ID Number',\n",
       "       'Are you submitting this form to request support for a specific lab, homework, or project?',\n",
       "       'Are you a registered DSP student with assignment accommodations?',\n",
       "       'What is the reason? What can we do to support you?',\n",
       "       'When are you free to talk to a TA?',\n",
       "       'For what assignment(s) are you requesting additional support?',\n",
       "       'By how many days would you like the assignment extended?',\n",
       "       'If you have documentation to support your request, please include it here',\n",
       "       'What's going on? What kind of guidance would you like to discuss?',\n",
       "       'Rerun', 'rid'],\n",
       "      dtype='object')"
      ]
     },
     "execution_count": 47,
     "metadata": {},
     "output_type": "execute_result"
    }
   ],
   "source": [
    "responses_101.columns"
   ]
  },
  {
   "cell_type": "code",
   "execution_count": 48,
   "id": "8210c7cd-ef81-4a6f-a03e-ab54255f679a",
   "metadata": {},
   "outputs": [],
   "source": [
    "# cleaning for necessary columns\n",
    "#responses: RID, timestamp, reason (NaN if dsp), which assignment, requested days\n",
    "responses_101 = responses_101[['rid', 'Timestamp', 'What is the reason? What can we do to support you?',\n",
    "\"What's going on? What kind of guidance would you like to discuss?\", 'By how many days would you like the assignment extended?']]\n",
    "responses_8 = responses_8[['RID', 'Timestamp', 'How many days would you like an extension for?', 'Why do you need the extension?']]\n",
    "responses_100 = responses_100.iloc[:, 1:]"
   ]
  },
  {
   "cell_type": "code",
   "execution_count": 49,
   "id": "871d9c5c-8cbb-4a01-ab08-31c328ace3c0",
   "metadata": {},
   "outputs": [],
   "source": [
    "# cleaning for necessary columns\n",
    "#roster: rid, is_dsp, granted days of all assignments\n",
    "roster_101 = roster_101[['rid', 'is_dsp', 'proj1', 'multi1', 'proj2', 'multi2','multi3','proj3', 'multi4', 'multi5', 'proj4']]\n",
    "roster_8 = roster_8[['RID', 'lab1', 'hw1', 'lab2', 'hw2', 'lab3', 'hw3','lab4', 'hw4', 'hw5',\n",
    "                     'lab5', 'proj1', 'hw6', 'lab6', 'hw7', 'lab7', 'hw8', 'lab8', 'hw9', 'hw10',\n",
    "                     'lab9', 'proj2', 'hw11', 'lab10', 'hw12', 'proj3']]\n",
    "roster_100 = roster_100[['RID', 'is_dsp', 'lab1', 'hw1', 'lab2a', 'hw2a', 'lab2b', 'hw2b', 'lab3', 'hw3',\n",
    "                        'lab4', 'hw4', 'lab5', 'hw5', 'lab6', 'hw6', 'lab7', 'proja1', 'lab8', 'proja2',\n",
    "                         'lab9', 'hw7', 'lab10', 'hw8', 'lab11', 'projb1', 'projb2', 'lab12', 'lab13']]"
   ]
  },
  {
   "cell_type": "code",
   "execution_count": 50,
   "id": "5beabff2-0abe-45c7-8998-637209bc282f",
   "metadata": {},
   "outputs": [],
   "source": [
    "# cleaning for necessary columns\n",
    "#evaluation questions\n",
    "evaluation_101 = evaluation_101.iloc[:, 59:]\n",
    "evaluation_101.rename(columns={evaluation_101.columns[0]: 'participate'}, inplace=True)\n",
    "evaluation_101.drop(evaluation_101[evaluation_101['participate'] == 'No'].index, inplace=True)\n",
    "evaluation_101.drop(evaluation_101.columns[0], axis=1, inplace=True)\n",
    "\n",
    "evaluation_100 = evaluation_100.iloc[:, 1:]"
   ]
  },
  {
   "cell_type": "code",
   "execution_count": 51,
   "id": "4442fbae-91ac-4ba9-876b-fdb1972e5322",
   "metadata": {},
   "outputs": [
    {
     "name": "stderr",
     "output_type": "stream",
     "text": [
      "/Users/dclbenedicto/honors/helper.py:14: SettingWithCopyWarning: \n",
      "A value is trying to be set on a copy of a slice from a DataFrame.\n",
      "Try using .loc[row_indexer,col_indexer] = value instead\n",
      "\n",
      "See the caveats in the documentation: https://pandas.pydata.org/pandas-docs/stable/user_guide/indexing.html#returning-a-view-versus-a-copy\n",
      "  df['reason'] = df[df.columns[2]].fillna(df[df.columns[3]])\n",
      "/Users/dclbenedicto/honors/helper.py:15: SettingWithCopyWarning: \n",
      "A value is trying to be set on a copy of a slice from a DataFrame\n",
      "\n",
      "See the caveats in the documentation: https://pandas.pydata.org/pandas-docs/stable/user_guide/indexing.html#returning-a-view-versus-a-copy\n",
      "  df.drop([df.columns[2], df.columns[3]], axis=1, inplace=True)\n"
     ]
    }
   ],
   "source": [
    "h.merge_reasons(responses_101)\n",
    "h.merge_reasons(responses_100)"
   ]
  },
  {
   "cell_type": "code",
   "execution_count": 52,
   "id": "7e107b9d-295f-4135-8ffb-d2fbf894c8c8",
   "metadata": {},
   "outputs": [
    {
     "name": "stderr",
     "output_type": "stream",
     "text": [
      "/Users/dclbenedicto/honors/helper.py:19: SettingWithCopyWarning: \n",
      "A value is trying to be set on a copy of a slice from a DataFrame\n",
      "\n",
      "See the caveats in the documentation: https://pandas.pydata.org/pandas-docs/stable/user_guide/indexing.html#returning-a-view-versus-a-copy\n",
      "  df.rename(columns={df.columns[i]: new_name}, inplace=True)\n"
     ]
    }
   ],
   "source": [
    "#renaming responses\n",
    "for df in [responses_8, responses_100, responses_101]:\n",
    "    for i in np.arange(0,len(responses_8.columns)):\n",
    "        new_cols = ['rid', 'timestamp', 'requested_days', 'reason']\n",
    "        h.rename_columns(df, i, new_cols[i])\n",
    "\n",
    "#renaming evaluations\n",
    "for i in np.arange(0,len(evaluation_8.columns)):\n",
    "    new_cols = ['rid', 'usage', 'comfort', 'comfort_reason', 'learning_benefit', 'experience_benefit', 'reason_benefit', 'feedback']\n",
    "    h.rename_columns(evaluation_8, i, new_cols[i])\n",
    "\n",
    "for i in np.arange(0,len(evaluation_100.columns)):\n",
    "    new_cols = ['usage', 'comfort', 'comfort_reason', 'learning_benefit', 'experience_benefit', 'reason_benefit', 'feedback']\n",
    "    h.rename_columns(evaluation_100, i, new_cols[i])\n",
    "\n",
    "for i in np.arange(0,len(evaluation_101.columns)):\n",
    "    new_cols = ['usage', 'comfort', 'comfort_reason', 'learning_benefit', 'experience_benefit', 'reason_benefit', 'feedback']\n",
    "    h.rename_columns(evaluation_101, i, new_cols[i])\n",
    "\n",
    "h.rename_columns(roster_8, 0, 'rid')\n",
    "h.rename_columns(roster_100, 0, 'rid')"
   ]
  },
  {
   "cell_type": "code",
   "execution_count": 53,
   "id": "1d24195f-7b7d-47d7-a7d0-48586ef9e9de",
   "metadata": {},
   "outputs": [
    {
     "name": "stderr",
     "output_type": "stream",
     "text": [
      "/Users/dclbenedicto/honors/helper.py:38: SettingWithCopyWarning: \n",
      "A value is trying to be set on a copy of a slice from a DataFrame.\n",
      "Try using .loc[row_indexer,col_indexer] = value instead\n",
      "\n",
      "See the caveats in the documentation: https://pandas.pydata.org/pandas-docs/stable/user_guide/indexing.html#returning-a-view-versus-a-copy\n",
      "  df[col] = df[col].str.replace(regex_pattern, '[redacted]', regex=True)\n"
     ]
    }
   ],
   "source": [
    "#for all text, replace w/ 'redacted' if identifiable information is there\n",
    "students_101 = pd.read_csv('honors/Data_101_Fall_2023_roster (1).csv')\n",
    "sensitive_info_101 = h.compile_sensitive_info(students_101)\n",
    "h.redact_info(responses_101, 'reason', sensitive_info_101)\n",
    "\n",
    "students_8 = pd.read_csv('honors/Data_8_Fall_2023_roster.csv')\n",
    "students_8[['First Name', 'Last Name']] = students_8['Name'].str.split(n=1, expand=True)\n",
    "sensitive_info_8 = h.compile_sensitive_info(students_8)\n",
    "h.redact_info(responses_8, 'reason', sensitive_info_8)\n",
    "\n",
    "students_100 = pd.read_csv('honors/Data_100_Fall_2023_roster (4).csv')\n",
    "sensitive_info_100 = h.compile_sensitive_info(students_100)\n",
    "h.redact_info(responses_100, 'reason', sensitive_info_100)"
   ]
  },
  {
   "cell_type": "code",
   "execution_count": 54,
   "id": "bee87ef4-d91f-4eb7-acd8-e8f42273dc4c",
   "metadata": {},
   "outputs": [
    {
     "name": "stdout",
     "output_type": "stream",
     "text": [
      "Index(['rid', 'timestamp', 'requested_days', 'reason'], dtype='object')\n",
      "Index(['rid', 'timestamp', 'requested_days', 'reason'], dtype='object')\n",
      "Index(['rid', 'timestamp', 'requested_days', 'reason'], dtype='object')\n",
      "Index(['rid', 'is_dsp', 'proj1', 'multi1', 'proj2', 'multi2', 'multi3',\n",
      "       'proj3', 'multi4', 'multi5', 'proj4'],\n",
      "      dtype='object')\n",
      "Index(['rid', 'lab1', 'hw1', 'lab2', 'hw2', 'lab3', 'hw3', 'lab4', 'hw4',\n",
      "       'hw5', 'lab5', 'proj1', 'hw6', 'lab6', 'hw7', 'lab7', 'hw8', 'lab8',\n",
      "       'hw9', 'hw10', 'lab9', 'proj2', 'hw11', 'lab10', 'hw12', 'proj3'],\n",
      "      dtype='object')\n",
      "Index(['rid', 'is_dsp', 'lab1', 'hw1', 'lab2a', 'hw2a', 'lab2b', 'hw2b',\n",
      "       'lab3', 'hw3', 'lab4', 'hw4', 'lab5', 'hw5', 'lab6', 'hw6', 'lab7',\n",
      "       'proja1', 'lab8', 'proja2', 'lab9', 'hw7', 'lab10', 'hw8', 'lab11',\n",
      "       'projb1', 'projb2', 'lab12', 'lab13'],\n",
      "      dtype='object')\n",
      "Index(['usage', 'comfort', 'comfort_reason', 'learning_benefit',\n",
      "       'experience_benefit', 'reason_benefit', 'feedback'],\n",
      "      dtype='object')\n",
      "Index(['rid', 'usage', 'comfort', 'comfort_reason', 'learning_benefit',\n",
      "       'experience_benefit', 'reason_benefit', 'feedback'],\n",
      "      dtype='object')\n",
      "Index(['usage', 'comfort', 'comfort_reason', 'learning_benefit',\n",
      "       'experience_benefit', 'reason_benefit', 'feedback'],\n",
      "      dtype='object')\n"
     ]
    }
   ],
   "source": [
    "list_of_tables = [responses_101, responses_8, responses_100,\n",
    "                  roster_101, roster_8, roster_100,\n",
    "                  evaluation_101, evaluation_8, evaluation_100]\n",
    "\n",
    "for i in list_of_tables:\n",
    "    print(i.columns)"
   ]
  },
  {
   "cell_type": "code",
   "execution_count": 57,
   "id": "7271feda-aa03-4bca-b7c2-268b27499639",
   "metadata": {},
   "outputs": [],
   "source": [
    "#exporting the data\n",
    "responses_101.to_csv('honors/responses_101.csv')\n",
    "roster_101.to_csv('honors/roster_101.csv')\n",
    "evaluation_101.to_csv('honors/evaluation_101.csv')\n",
    "\n",
    "responses_8.to_csv('honors/responses_8.csv')\n",
    "roster_8.to_csv('honors/roster_8.csv')\n",
    "evaluation_8.to_csv('honors/evaluation_8.csv')\n",
    "\n",
    "responses_100.to_csv('honors/responses_100.csv')\n",
    "roster_100.to_csv('honors/roster_100.csv')\n",
    "evaluation_100.to_csv('honors/evaluation_100.csv')"
   ]
  },
  {
   "cell_type": "code",
   "execution_count": null,
   "id": "ca532771-f518-4f38-a0b4-dbb5a6a68e87",
   "metadata": {},
   "outputs": [],
   "source": []
  }
 ],
 "metadata": {
  "kernelspec": {
   "display_name": "Python 3 (ipykernel)",
   "language": "python",
   "name": "python3"
  },
  "language_info": {
   "codemirror_mode": {
    "name": "ipython",
    "version": 3
   },
   "file_extension": ".py",
   "mimetype": "text/x-python",
   "name": "python",
   "nbconvert_exporter": "python",
   "pygments_lexer": "ipython3",
   "version": "3.12.2"
  }
 },
 "nbformat": 4,
 "nbformat_minor": 5
}
